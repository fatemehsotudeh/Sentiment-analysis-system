{
 "cells": [
  {
   "cell_type": "code",
   "execution_count": 1,
   "outputs": [],
   "source": [
    "import sys\n",
    "sys.path.append('../scripts')\n",
    "from helpers import *\n",
    "from preprocessing import *"
   ],
   "metadata": {
    "collapsed": false
   }
  },
  {
   "cell_type": "code",
   "execution_count": 2,
   "outputs": [
    {
     "data": {
      "text/plain": "((74682, 4), (500, 4), (500, 4))"
     },
     "execution_count": 2,
     "metadata": {},
     "output_type": "execute_result"
    }
   ],
   "source": [
    "base_path = '../data/raw_data/'\n",
    "df_train = read_file(base_path + 'twitter_training.csv')\n",
    "df_test = read_file(base_path + 'twitter_test.csv')\n",
    "df_validation = read_file(base_path + 'twitter_validation.csv')\n",
    "df_train.shape, df_test.shape, df_validation.shape"
   ],
   "metadata": {
    "collapsed": false
   }
  },
  {
   "cell_type": "markdown",
   "source": [
    "## Drop nan values (before preprocessing)"
   ],
   "metadata": {
    "collapsed": false
   }
  },
  {
   "cell_type": "code",
   "execution_count": 3,
   "outputs": [
    {
     "data": {
      "text/plain": "(73996, 4)"
     },
     "execution_count": 3,
     "metadata": {},
     "output_type": "execute_result"
    }
   ],
   "source": [
    "# Drop rows with missing values in the 'content' column\n",
    "df_train = df_train.dropna(subset=['Tweet content'])\n",
    "df_train.shape"
   ],
   "metadata": {
    "collapsed": false
   }
  },
  {
   "cell_type": "markdown",
   "source": [
    "## Preprocessing tweet content\n",
    "- Handle Mentions (@mentions)\n",
    "- Handle Hashtags (#hashtags)\n",
    "- Remove URLs\n",
    "- Handle Emoticons and Emoji\n",
    "- Remove Retweet Tags (RT)\n",
    "- Handle Special Characters\n",
    "- Handle Contractions and Slang\n",
    "- Tokenization with Twitter-Specific Tokenizers\n",
    "- Filtering Short Words\n",
    "- Removing Stopwords\n",
    "- Stemming\n",
    "- lemmatizing\n",
    "- Handling Numeric Data"
   ],
   "metadata": {
    "collapsed": false
   }
  },
  {
   "cell_type": "code",
   "execution_count": 4,
   "outputs": [],
   "source": [
    "df_train['Preprocessed Tweet content'] = df_train['Tweet content'].apply(preprocess_tweet)\n",
    "df_test['Preprocessed Tweet content'] = df_test['Tweet content'].apply(preprocess_tweet)\n",
    "df_validation['Preprocessed Tweet content'] = df_validation['Tweet content'].apply(preprocess_tweet)"
   ],
   "metadata": {
    "collapsed": false
   }
  },
  {
   "cell_type": "code",
   "execution_count": 7,
   "outputs": [],
   "source": [
    "path = '../data/processed_data/'\n",
    "save_to_csv(df_train, path + 'preprocessed_training_tweets.csv')\n",
    "save_to_csv(df_test, path + 'preprocessed_test_tweets.csv')\n",
    "save_to_csv(df_validation, path + 'preprocessed_validation_tweets.csv')"
   ],
   "metadata": {
    "collapsed": false
   }
  }
 ],
 "metadata": {
  "kernelspec": {
   "display_name": "Python 3",
   "language": "python",
   "name": "python3"
  },
  "language_info": {
   "codemirror_mode": {
    "name": "ipython",
    "version": 2
   },
   "file_extension": ".py",
   "mimetype": "text/x-python",
   "name": "python",
   "nbconvert_exporter": "python",
   "pygments_lexer": "ipython2",
   "version": "2.7.6"
  }
 },
 "nbformat": 4,
 "nbformat_minor": 0
}
