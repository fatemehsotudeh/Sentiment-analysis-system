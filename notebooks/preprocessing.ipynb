{
 "cells": [
  {
   "cell_type": "code",
   "execution_count": 1,
   "outputs": [],
   "source": [
    "import sys\n",
    "sys.path.append('../scripts')\n",
    "from helpers import *\n",
    "from preprocessing import *"
   ],
   "metadata": {
    "collapsed": false
   }
  },
  {
   "cell_type": "code",
   "execution_count": 2,
   "outputs": [
    {
     "data": {
      "text/plain": "((74682, 4), (500, 4), (500, 4))"
     },
     "execution_count": 2,
     "metadata": {},
     "output_type": "execute_result"
    }
   ],
   "source": [
    "base_path = '../data/raw_data/'\n",
    "df_train = read_file(base_path + 'twitter_training.csv')\n",
    "df_test = read_file(base_path + 'twitter_test.csv')\n",
    "df_validation = read_file(base_path + 'twitter_validation.csv')\n",
    "df_train.shape, df_test.shape, df_validation.shape"
   ],
   "metadata": {
    "collapsed": false
   }
  },
  {
   "cell_type": "markdown",
   "source": [
    "## Drop nan values (before preprocessing)"
   ],
   "metadata": {
    "collapsed": false
   }
  },
  {
   "cell_type": "code",
   "execution_count": 3,
   "outputs": [
    {
     "data": {
      "text/plain": "(73996, 4)"
     },
     "execution_count": 3,
     "metadata": {},
     "output_type": "execute_result"
    }
   ],
   "source": [
    "# Drop rows with missing values in the 'content' column\n",
    "df_train = df_train.dropna(subset=['Tweet content'])\n",
    "df_train.shape"
   ],
   "metadata": {
    "collapsed": false
   }
  },
  {
   "cell_type": "markdown",
   "source": [
    "## Preprocessing tweet content\n",
    "- Handle Mentions (@mentions)\n",
    "    - User mentions often don't contribute to sentiment analysis and can be removed or replaced. This step ensures that mentions (e.g., \"@user123\") don't affect the analysis.\n",
    "- Handle Hashtags (#hashtags)\n",
    "    - Extract information from hashtags or remove them. Hashtags can be valuable in sentiment analysis as they often reflect the main theme or topic of a tweet.\n",
    "- Remove URLs\n",
    "    - URLs don't usually convey sentiment and can be removed to focus on the text content.\n",
    "- Handle Emoticons and Emoji\n",
    "    -  Emoticons and emojis add emotional context to text. This step involves converting them to a standardized format.\n",
    "- Remove Retweet Tags (RT)\n",
    "    - \"RT\" tags indicate a retweet, which might not contribute to sentiment analysis. Removing these tags ensures that the model focuses on the original content.\n",
    "- Handle Special Characters\n",
    "    - Special characters may not carry sentiment-related information and can be converted or removed to maintain text clarity.\n",
    "- Handle Contractions and Slang\n",
    "    - Expanding contractions and replacing slang ensures consistency in the language used, helping the model better understand and analyze sentiment\n",
    "- Tokenization with Twitter-Specific Tokenizers\n",
    "    - Tokenization involves breaking down the tweet into individual words or subwords. Twitter-specific tokenizers consider the unique characteristics of Twitter content, such as the use of hashtags and mentions.\n",
    "- Filtering Short Words\n",
    "    - Tokenization involves breaking down the tweet into individual words or subwords. Twitter-specific tokenizers consider the unique characteristics of Twitter content, such as the use of hashtags and mentions.\n",
    "- Removing Stopwords\n",
    "    - Stopwords are common words (e.g., \"and,\" \"the,\" \"is\") that do not carry significant meaning. Removing them reduces the dimensionality of the data and can improve the efficiency of sentiment analysis.\n",
    "- Stemming\n",
    "    - Stemming involves reducing words to their root or base form. This helps in treating similar words with different inflections as the same, reducing the complexity of the data.\n",
    "- lemmatizing\n",
    "    - Similar to stemming, lemmatizing reduces words to a valid base form, considering the context. It helps in maintaining the integrity of words in the English language.\n",
    "- Handling Numeric Data\n",
    "    - Numeric data not be directly related to sentiment"
   ],
   "metadata": {
    "collapsed": false
   }
  },
  {
   "cell_type": "code",
   "execution_count": 4,
   "outputs": [],
   "source": [
    "df_train['Preprocessed Tweet content'] = df_train['Tweet content'].apply(preprocess_tweet)\n",
    "df_test['Preprocessed Tweet content'] = df_test['Tweet content'].apply(preprocess_tweet)\n",
    "df_validation['Preprocessed Tweet content'] = df_validation['Tweet content'].apply(preprocess_tweet)"
   ],
   "metadata": {
    "collapsed": false
   }
  },
  {
   "cell_type": "code",
   "execution_count": 7,
   "outputs": [],
   "source": [
    "path = '../data/processed_data/'\n",
    "save_to_csv(df_train, path + 'preprocessed_training_tweets.csv')\n",
    "save_to_csv(df_test, path + 'preprocessed_test_tweets.csv')\n",
    "save_to_csv(df_validation, path + 'preprocessed_validation_tweets.csv')"
   ],
   "metadata": {
    "collapsed": false
   }
  }
 ],
 "metadata": {
  "kernelspec": {
   "display_name": "Python 3",
   "language": "python",
   "name": "python3"
  },
  "language_info": {
   "codemirror_mode": {
    "name": "ipython",
    "version": 2
   },
   "file_extension": ".py",
   "mimetype": "text/x-python",
   "name": "python",
   "nbconvert_exporter": "python",
   "pygments_lexer": "ipython2",
   "version": "2.7.6"
  }
 },
 "nbformat": 4,
 "nbformat_minor": 0
}
